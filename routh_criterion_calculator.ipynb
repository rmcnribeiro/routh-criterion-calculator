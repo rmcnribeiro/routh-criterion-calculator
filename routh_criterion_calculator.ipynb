{
 "cells": [
  {
   "cell_type": "markdown",
   "metadata": {},
   "source": [
    "# Routh criterion calculator with symbolic variables\n",
    "\n",
    "*Author: Rafael Ribeiro*"
   ]
  },
  {
   "cell_type": "code",
   "execution_count": 1,
   "metadata": {},
   "outputs": [],
   "source": [
    "from sympy import *"
   ]
  },
  {
   "cell_type": "code",
   "execution_count": 2,
   "metadata": {},
   "outputs": [],
   "source": [
    "def routh_criterion(coeffs):\n",
    "    \"\"\"\n",
    "    Create a Routh-Hurwitz stability criterion matrix of a nth-degree polynomial \n",
    "    \n",
    "    Argument:\n",
    "    coeffs -- list of coefficients from the denominator of a transfer function from the highest to the \n",
    "              lowest power\n",
    "              \n",
    "    Return:\n",
    "    \n",
    "    routh_matrix -- Sympy matrix\n",
    "    \"\"\"\n",
    "    \n",
    "    first_line = []\n",
    "    second_line = []\n",
    "\n",
    "    for index in range(len(coeffs)):\n",
    "        if (index%2 == 0) or (index==0):\n",
    "            first_line.append(coeffs[index])\n",
    "        else:\n",
    "            second_line.append(coeffs[index])\n",
    "\n",
    "    while(len(first_line)!=len(second_line)):\n",
    "        second_line.append(0)\n",
    "\n",
    "    routh_matrix = Matrix([first_line, second_line])\n",
    "\n",
    "    line_n = []\n",
    "\n",
    "    aux_matrix = [first_line, second_line]\n",
    "\n",
    "    for line in range(len(coeffs)-2):\n",
    "\n",
    "        for index in range(len(first_line)-1):\n",
    "\n",
    "            line_n.append(\n",
    "                simplify((routh_matrix[line+1,0]*routh_matrix[line,index+1] - routh_matrix[line+1,index+1]*routh_matrix[line,0] )\\\n",
    "                         /routh_matrix[line+1,0]))\n",
    "\n",
    "        while(len(first_line)!=len(line_n)):\n",
    "\n",
    "            line_n.append(0)\n",
    "\n",
    "        aux_matrix.append(line_n)    \n",
    "\n",
    "        routh_matrix = Matrix(aux_matrix)\n",
    "\n",
    "        line_n = []\n",
    "\n",
    "    return routh_matrix"
   ]
  },
  {
   "cell_type": "markdown",
   "metadata": {},
   "source": [
    "Let's take \n",
    "\n",
    "$$s^{4} + 59s^{3} + 967s^{2} + (1000k + 3681)s + (50000k + 2772) $$ \n",
    "\n",
    "as an example. Note that the coefficients go from highest to lowest order."
   ]
  },
  {
   "cell_type": "code",
   "execution_count": 3,
   "metadata": {},
   "outputs": [],
   "source": [
    "k = symbols('k')\n",
    "\n",
    "coeffs = [1, 59, 967, 1000*k + 3681, 50000*k + 2772]"
   ]
  },
  {
   "cell_type": "code",
   "execution_count": 4,
   "metadata": {},
   "outputs": [
    {
     "data": {
      "text/latex": [
       "$\\displaystyle \\left[\\begin{matrix}1 & 967 & 50000 k + 2772\\\\59 & 1000 k + 3681 & 0\\\\\\frac{53372}{59} - \\frac{1000 k}{59} & 50000 k + 2772 & 0\\\\\\frac{250 \\left(1000 k^{2} + 124359 k - 186813\\right)}{250 k - 13343} & 0 & 0\\\\50000 k + 2772 & 0 & 0\\end{matrix}\\right]$"
      ],
      "text/plain": [
       "Matrix([\n",
       "[                                                  1,            967, 50000*k + 2772],\n",
       "[                                                 59,  1000*k + 3681,              0],\n",
       "[                               53372/59 - 1000*k/59, 50000*k + 2772,              0],\n",
       "[250*(1000*k**2 + 124359*k - 186813)/(250*k - 13343),              0,              0],\n",
       "[                                     50000*k + 2772,              0,              0]])"
      ]
     },
     "execution_count": 4,
     "metadata": {},
     "output_type": "execute_result"
    }
   ],
   "source": [
    "routh_matrix = routh_criterion(coeffs)\n",
    "\n",
    "routh_matrix"
   ]
  },
  {
   "cell_type": "code",
   "execution_count": 5,
   "metadata": {},
   "outputs": [
    {
     "data": {
      "text/latex": [
       "$\\displaystyle 50000 k + 2772$"
      ],
      "text/plain": [
       "50000*k + 2772"
      ]
     },
     "execution_count": 5,
     "metadata": {},
     "output_type": "execute_result"
    }
   ],
   "source": [
    "routh_matrix[4,0]"
   ]
  },
  {
   "cell_type": "code",
   "execution_count": 6,
   "metadata": {},
   "outputs": [
    {
     "data": {
      "text/latex": [
       "$\\displaystyle - \\frac{693}{12500} < k \\wedge k < \\infty$"
      ],
      "text/plain": [
       "(-693/12500 < k) & (k < oo)"
      ]
     },
     "execution_count": 6,
     "metadata": {},
     "output_type": "execute_result"
    }
   ],
   "source": [
    "reduce_inequalities(routh_matrix[4,0]>0)"
   ]
  },
  {
   "cell_type": "code",
   "execution_count": 7,
   "metadata": {},
   "outputs": [
    {
     "data": {
      "text/latex": [
       "$\\displaystyle \\frac{250 \\left(1000 k^{2} + 124359 k - 186813\\right)}{250 k - 13343}$"
      ],
      "text/plain": [
       "250*(1000*k**2 + 124359*k - 186813)/(250*k - 13343)"
      ]
     },
     "execution_count": 7,
     "metadata": {},
     "output_type": "execute_result"
    }
   ],
   "source": [
    "routh_matrix[3,0]"
   ]
  },
  {
   "cell_type": "code",
   "execution_count": 8,
   "metadata": {},
   "outputs": [
    {
     "data": {
      "text/latex": [
       "$\\displaystyle \\left(\\frac{13343}{250} < k \\wedge k < \\infty\\right) \\vee \\left(k < - \\frac{124359}{2000} + \\frac{1239 \\sqrt{10561}}{2000} \\wedge - \\frac{1239 \\sqrt{10561}}{2000} - \\frac{124359}{2000} < k\\right)$"
      ],
      "text/plain": [
       "((13343/250 < k) & (k < oo)) | ((k < -124359/2000 + 1239*sqrt(10561)/2000) & (-1239*sqrt(10561)/2000 - 124359/2000 < k))"
      ]
     },
     "execution_count": 8,
     "metadata": {},
     "output_type": "execute_result"
    }
   ],
   "source": [
    "reduce_inequalities(routh_matrix[3,0]>0)"
   ]
  },
  {
   "cell_type": "code",
   "execution_count": null,
   "metadata": {},
   "outputs": [],
   "source": []
  }
 ],
 "metadata": {
  "kernelspec": {
   "display_name": "Python 3",
   "language": "python",
   "name": "python3"
  },
  "language_info": {
   "codemirror_mode": {
    "name": "ipython",
    "version": 3
   },
   "file_extension": ".py",
   "mimetype": "text/x-python",
   "name": "python",
   "nbconvert_exporter": "python",
   "pygments_lexer": "ipython3",
   "version": "3.8.5"
  }
 },
 "nbformat": 4,
 "nbformat_minor": 4
}
